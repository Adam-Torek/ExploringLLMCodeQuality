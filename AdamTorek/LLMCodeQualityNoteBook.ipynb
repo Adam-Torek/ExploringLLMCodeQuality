{
 "cells": [
  {
   "cell_type": "code",
   "execution_count": 1,
   "metadata": {},
   "outputs": [
    {
     "name": "stderr",
     "output_type": "stream",
     "text": [
      "/home/adam-torek/miniconda3/envs/EXLLMQL/lib/python3.11/site-packages/tqdm/auto.py:21: TqdmWarning: IProgress not found. Please update jupyter and ipywidgets. See https://ipywidgets.readthedocs.io/en/stable/user_install.html\n",
      "  from .autonotebook import tqdm as notebook_tqdm\n"
     ]
    }
   ],
   "source": [
    "from transformers import AutoTokenizer\n",
    "import transformers\n",
    "import torch\n",
    "\n",
    "model_id = \"codellama/CodeLlama-7b-hf\""
   ]
  },
  {
   "cell_type": "code",
   "execution_count": 2,
   "metadata": {},
   "outputs": [],
   "source": [
    "tokenizer = AutoTokenizer.from_pretrained(model_id)"
   ]
  },
  {
   "cell_type": "code",
   "execution_count": 3,
   "metadata": {},
   "outputs": [
    {
     "name": "stderr",
     "output_type": "stream",
     "text": [
      "Loading checkpoint shards: 100%|██████████| 2/2 [00:05<00:00,  2.82s/it]\n"
     ]
    }
   ],
   "source": [
    "pipeline = transformers.pipeline(\"text-generation\", \n",
    "                                 model=model_id, \n",
    "                                 tokenizer=tokenizer, \n",
    "                                 torch_dtype=torch.float16, \n",
    "                                 device_map=\"auto\")"
   ]
  },
  {
   "cell_type": "code",
   "execution_count": 6,
   "metadata": {},
   "outputs": [],
   "source": [
    "def generate_code(prompt):\n",
    "    sequences = pipeline(prompt, \n",
    "                         do_sample=True, \n",
    "                         temperature=0.1, \n",
    "                         top_p=0.9, \n",
    "                         num_return_sequences = 1, \n",
    "                         eos_token_id = tokenizer.eos_token_id, \n",
    "                         max_length=512,\n",
    "                         truncation=True\n",
    "                        )\n",
    "    return sequences[0]['generated_text']"
   ]
  },
  {
   "cell_type": "code",
   "execution_count": 8,
   "metadata": {},
   "outputs": [
    {
     "ename": "TypeError",
     "evalue": "islice() takes no keyword arguments",
     "output_type": "error",
     "traceback": [
      "\u001b[0;31m---------------------------------------------------------------------------\u001b[0m",
      "\u001b[0;31mTypeError\u001b[0m                                 Traceback (most recent call last)",
      "Cell \u001b[0;32mIn[8], line 6\u001b[0m\n\u001b[1;32m      1\u001b[0m \u001b[38;5;28;01mfrom\u001b[39;00m \u001b[38;5;21;01mitertools\u001b[39;00m \u001b[38;5;28;01mimport\u001b[39;00m islice\n\u001b[1;32m      2\u001b[0m \u001b[38;5;28;01mfrom\u001b[39;00m \u001b[38;5;21;01mevalplus\u001b[39;00m\u001b[38;5;21;01m.\u001b[39;00m\u001b[38;5;21;01mdata\u001b[39;00m \u001b[38;5;28;01mimport\u001b[39;00m get_human_eval_plus, write_jsonl\n\u001b[1;32m      4\u001b[0m samples \u001b[38;5;241m=\u001b[39m [\n\u001b[1;32m      5\u001b[0m     \u001b[38;5;28mdict\u001b[39m(task_id\u001b[38;5;241m=\u001b[39mtask_id, solution\u001b[38;5;241m=\u001b[39mgenerate_code(problem[\u001b[38;5;124m\"\u001b[39m\u001b[38;5;124mprompt\u001b[39m\u001b[38;5;124m\"\u001b[39m]))\n\u001b[0;32m----> 6\u001b[0m     \u001b[38;5;28;01mfor\u001b[39;00m task_id, problem \u001b[38;5;129;01min\u001b[39;00m \u001b[43mislice\u001b[49m\u001b[43m(\u001b[49m\u001b[43mget_human_eval_plus\u001b[49m\u001b[43m(\u001b[49m\u001b[43m)\u001b[49m\u001b[38;5;241;43m.\u001b[39;49m\u001b[43mitems\u001b[49m\u001b[43m(\u001b[49m\u001b[43m)\u001b[49m\u001b[43m,\u001b[49m\u001b[43m \u001b[49m\u001b[43m__start\u001b[49m\u001b[38;5;241;43m=\u001b[39;49m\u001b[38;5;241;43m0\u001b[39;49m\u001b[43m,\u001b[49m\u001b[43m \u001b[49m\u001b[43m__stop\u001b[49m\u001b[38;5;241;43m=\u001b[39;49m\u001b[38;5;241;43m20\u001b[39;49m\u001b[43m,\u001b[49m\u001b[43m \u001b[49m\u001b[43m__step\u001b[49m\u001b[38;5;241;43m=\u001b[39;49m\u001b[38;5;241;43m1\u001b[39;49m\u001b[43m)\u001b[49m\n\u001b[1;32m      7\u001b[0m ]\n\u001b[1;32m      8\u001b[0m write_jsonl(\u001b[38;5;124m\"\u001b[39m\u001b[38;5;124msamples.jsonl\u001b[39m\u001b[38;5;124m\"\u001b[39m, samples)\n",
      "\u001b[0;31mTypeError\u001b[0m: islice() takes no keyword arguments"
     ]
    }
   ],
   "source": [
    "from itertools import islice\n",
    "from evalplus.data import get_human_eval_plus, write_jsonl\n",
    "\n",
    "samples = [\n",
    "    dict(task_id=task_id, solution=generate_code(problem[\"prompt\"]))\n",
    "    for task_id, problem in islice(get_human_eval_plus().items(), 0, 20, 1)\n",
    "]\n",
    "write_jsonl(\"samples.jsonl\", samples)"
   ]
  },
  {
   "cell_type": "code",
   "execution_count": null,
   "metadata": {},
   "outputs": [],
   "source": []
  }
 ],
 "metadata": {
  "kernelspec": {
   "display_name": "EXLLMQL",
   "language": "python",
   "name": "python3"
  },
  "language_info": {
   "codemirror_mode": {
    "name": "ipython",
    "version": 3
   },
   "file_extension": ".py",
   "mimetype": "text/x-python",
   "name": "python",
   "nbconvert_exporter": "python",
   "pygments_lexer": "ipython3",
   "version": "3.11.8"
  }
 },
 "nbformat": 4,
 "nbformat_minor": 2
}

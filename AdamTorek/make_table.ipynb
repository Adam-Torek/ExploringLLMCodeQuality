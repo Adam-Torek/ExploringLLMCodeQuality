{
 "cells": [
  {
   "cell_type": "code",
   "execution_count": 94,
   "metadata": {},
   "outputs": [],
   "source": [
    "import pandas as pd\n",
    "import json"
   ]
  },
  {
   "cell_type": "code",
   "execution_count": 95,
   "metadata": {},
   "outputs": [],
   "source": [
    "with open('../all_benchmark_results_normal.json') as data_file:    \n",
    "    d = json.load(data_file)  \n",
    "\n",
    "results_data_normal = pd.concat({k: pd.DataFrame(v) for k, v in d.items()}, axis=1)"
   ]
  },
  {
   "cell_type": "code",
   "execution_count": 96,
   "metadata": {},
   "outputs": [],
   "source": [
    "with open('../all_benchmark_results_plus.json') as data_file:    \n",
    "    dp = json.load(data_file)  \n",
    "\n",
    "results_data_plus = pd.concat({k: pd.DataFrame(v) for k, v in dp.items()}, axis=1)"
   ]
  },
  {
   "cell_type": "code",
   "execution_count": 113,
   "metadata": {},
   "outputs": [
    {
     "data": {
      "text/plain": [
       "'\\\\begin{tabular}{lllllllll}\\n\\\\toprule\\n & \\\\multicolumn{2}{r}{WizardCoder 3B} & \\\\multicolumn{2}{r}{CodeLlama 7B} & \\\\multicolumn{2}{r}{starcoder2 7b} & \\\\multicolumn{2}{r}{Mistral 7B Instruct} \\\\\\\\\\n & humaneval & mbpp & humaneval & mbpp & humaneval & mbpp & humaneval & mbpp \\\\\\\\\\n\\\\midrule\\n4 bit & 0.00\\\\% & 0.00\\\\% & 7.93\\\\% & 15.04\\\\% & nan\\\\% & nan\\\\% & 18.29\\\\% & 42.36\\\\% \\\\\\\\\\n8 bit & 0.00\\\\% & 0.00\\\\% & 5.49\\\\% & 13.53\\\\% & nan\\\\% & nan\\\\% & 18.29\\\\% & 43.11\\\\% \\\\\\\\\\nunquantized & 2.44\\\\% & 16.04\\\\% & 0.00\\\\% & 0.00\\\\% & 0.61\\\\% & 1.25\\\\% & 0.00\\\\% & 0.00\\\\% \\\\\\\\\\n\\\\bottomrule\\n\\\\end{tabular}\\n'"
      ]
     },
     "execution_count": 113,
     "metadata": {},
     "output_type": "execute_result"
    }
   ],
   "source": [
    "results_data_normal.map(lambda x: \"{:.2f}\\%\".format(x*100)).to_latex(index=False)"
   ]
  },
  {
   "cell_type": "code",
   "execution_count": 114,
   "metadata": {},
   "outputs": [
    {
     "data": {
      "text/plain": [
       "'\\\\begin{tabular}{lllllllll}\\n\\\\toprule\\n & \\\\multicolumn{2}{r}{WizardCoder 3B} & \\\\multicolumn{2}{r}{CodeLlama 7B} & \\\\multicolumn{2}{r}{starcoder2 7b} & \\\\multicolumn{2}{r}{Mistral 7B Instruct} \\\\\\\\\\n & humaneval & mbpp & humaneval & mbpp & humaneval & mbpp & humaneval & mbpp \\\\\\\\\\n\\\\midrule\\n4 bit & 0.00\\\\% & 0.00\\\\% & 6.71\\\\% & 12.03\\\\% & nan\\\\% & nan\\\\% & 14.02\\\\% & 34.34\\\\% \\\\\\\\\\n8 bit & 0.00\\\\% & 0.00\\\\% & 3.05\\\\% & 11.28\\\\% & nan\\\\% & nan\\\\% & 14.02\\\\% & 35.09\\\\% \\\\\\\\\\nunquantized & 2.44\\\\% & 12.03\\\\% & 0.00\\\\% & 0.00\\\\% & 0.61\\\\% & 1.25\\\\% & 0.00\\\\% & 0.00\\\\% \\\\\\\\\\n\\\\bottomrule\\n\\\\end{tabular}\\n'"
      ]
     },
     "execution_count": 114,
     "metadata": {},
     "output_type": "execute_result"
    }
   ],
   "source": [
    "results_data_plus.map(lambda x: \"{:.2f}\\%\".format(x*100)).to_latex(index=False)"
   ]
  },
  {
   "cell_type": "code",
   "execution_count": null,
   "metadata": {},
   "outputs": [],
   "source": []
  }
 ],
 "metadata": {
  "kernelspec": {
   "display_name": "EXLLMQL",
   "language": "python",
   "name": "python3"
  },
  "language_info": {
   "codemirror_mode": {
    "name": "ipython",
    "version": 3
   },
   "file_extension": ".py",
   "mimetype": "text/x-python",
   "name": "python",
   "nbconvert_exporter": "python",
   "pygments_lexer": "ipython3",
   "version": "3.11.8"
  }
 },
 "nbformat": 4,
 "nbformat_minor": 2
}

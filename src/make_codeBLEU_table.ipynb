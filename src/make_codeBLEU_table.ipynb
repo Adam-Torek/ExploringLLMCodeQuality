{
 "cells": [
  {
   "cell_type": "code",
   "execution_count": 1,
   "metadata": {},
   "outputs": [],
   "source": [
    "import pandas as pd\n",
    "import json"
   ]
  },
  {
   "cell_type": "code",
   "execution_count": 2,
   "metadata": {},
   "outputs": [],
   "source": [
    "with open('../codebleu_results.json') as data_file:    \n",
    "    d = json.load(data_file)  \n",
    "\n",
    "codebleu_results = pd.concat({k: pd.DataFrame(v) for k, v in d.items()}, axis=1)"
   ]
  },
  {
   "cell_type": "code",
   "execution_count": 3,
   "metadata": {},
   "outputs": [
    {
     "name": "stdout",
     "output_type": "stream",
     "text": [
      "\\begin{tabular}{lrrrrrrrr}\n",
      "\\toprule\n",
      " & \\multicolumn{2}{r}{CodeLlama 7B} & \\multicolumn{2}{r}{Mistral 7B Instruct} & \\multicolumn{2}{r}{WizardCoder Python 7B} & \\multicolumn{2}{r}{starcoder2 7b} \\\\\n",
      " & HumanEval Plus & MBPP Plus & HumanEval Plus & MBPP Plus & HumanEval Plus & MBPP Plus & HumanEval Plus & MBPP Plus \\\\\n",
      "\\midrule\n",
      "4 bit & 0.247184 & 0.238342 & 0.244284 & 0.213382 & 0.287238 & 0.262609 & 0.203607 & 0.257308 \\\\\n",
      "8 bit & 0.239826 & 0.236393 & 0.243097 & 0.213401 & 0.283712 & 0.260337 & 0.212709 & 0.258715 \\\\\n",
      "unquantized & 0.239987 & 0.241254 & 0.262793 & 0.244285 & 0.279789 & 0.259317 & 0.188234 & 0.257682 \\\\\n",
      "\\bottomrule\n",
      "\\end{tabular}\n",
      "\n"
     ]
    }
   ],
   "source": [
    "print(codebleu_results.to_latex())"
   ]
  },
  {
   "cell_type": "code",
   "execution_count": 4,
   "metadata": {},
   "outputs": [
    {
     "data": {
      "text/html": [
       "<div>\n",
       "<style scoped>\n",
       "    .dataframe tbody tr th:only-of-type {\n",
       "        vertical-align: middle;\n",
       "    }\n",
       "\n",
       "    .dataframe tbody tr th {\n",
       "        vertical-align: top;\n",
       "    }\n",
       "\n",
       "    .dataframe thead tr th {\n",
       "        text-align: left;\n",
       "    }\n",
       "</style>\n",
       "<table border=\"1\" class=\"dataframe\">\n",
       "  <thead>\n",
       "    <tr>\n",
       "      <th></th>\n",
       "      <th colspan=\"2\" halign=\"left\">CodeLlama 7B</th>\n",
       "      <th colspan=\"2\" halign=\"left\">Mistral 7B Instruct</th>\n",
       "      <th colspan=\"2\" halign=\"left\">WizardCoder Python 7B</th>\n",
       "      <th colspan=\"2\" halign=\"left\">starcoder2 7b</th>\n",
       "    </tr>\n",
       "    <tr>\n",
       "      <th></th>\n",
       "      <th>HumanEval Plus</th>\n",
       "      <th>MBPP Plus</th>\n",
       "      <th>HumanEval Plus</th>\n",
       "      <th>MBPP Plus</th>\n",
       "      <th>HumanEval Plus</th>\n",
       "      <th>MBPP Plus</th>\n",
       "      <th>HumanEval Plus</th>\n",
       "      <th>MBPP Plus</th>\n",
       "    </tr>\n",
       "  </thead>\n",
       "  <tbody>\n",
       "    <tr>\n",
       "      <th>4 bit</th>\n",
       "      <td>0.247184</td>\n",
       "      <td>0.238342</td>\n",
       "      <td>0.244284</td>\n",
       "      <td>0.213382</td>\n",
       "      <td>0.287238</td>\n",
       "      <td>0.262609</td>\n",
       "      <td>0.203607</td>\n",
       "      <td>0.257308</td>\n",
       "    </tr>\n",
       "    <tr>\n",
       "      <th>8 bit</th>\n",
       "      <td>0.239826</td>\n",
       "      <td>0.236393</td>\n",
       "      <td>0.243097</td>\n",
       "      <td>0.213401</td>\n",
       "      <td>0.283712</td>\n",
       "      <td>0.260337</td>\n",
       "      <td>0.212709</td>\n",
       "      <td>0.258715</td>\n",
       "    </tr>\n",
       "    <tr>\n",
       "      <th>unquantized</th>\n",
       "      <td>0.239987</td>\n",
       "      <td>0.241254</td>\n",
       "      <td>0.262793</td>\n",
       "      <td>0.244285</td>\n",
       "      <td>0.279789</td>\n",
       "      <td>0.259317</td>\n",
       "      <td>0.188234</td>\n",
       "      <td>0.257682</td>\n",
       "    </tr>\n",
       "  </tbody>\n",
       "</table>\n",
       "</div>"
      ],
      "text/plain": [
       "              CodeLlama 7B           Mistral 7B Instruct            \\\n",
       "            HumanEval Plus MBPP Plus      HumanEval Plus MBPP Plus   \n",
       "4 bit             0.247184  0.238342            0.244284  0.213382   \n",
       "8 bit             0.239826  0.236393            0.243097  0.213401   \n",
       "unquantized       0.239987  0.241254            0.262793  0.244285   \n",
       "\n",
       "            WizardCoder Python 7B            starcoder2 7b            \n",
       "                   HumanEval Plus MBPP Plus HumanEval Plus MBPP Plus  \n",
       "4 bit                    0.287238  0.262609       0.203607  0.257308  \n",
       "8 bit                    0.283712  0.260337       0.212709  0.258715  \n",
       "unquantized              0.279789  0.259317       0.188234  0.257682  "
      ]
     },
     "execution_count": 4,
     "metadata": {},
     "output_type": "execute_result"
    }
   ],
   "source": [
    "codebleu_results"
   ]
  },
  {
   "cell_type": "code",
   "execution_count": null,
   "metadata": {},
   "outputs": [],
   "source": []
  }
 ],
 "metadata": {
  "kernelspec": {
   "display_name": "EXLLMQL",
   "language": "python",
   "name": "python3"
  },
  "language_info": {
   "codemirror_mode": {
    "name": "ipython",
    "version": 3
   },
   "file_extension": ".py",
   "mimetype": "text/x-python",
   "name": "python",
   "nbconvert_exporter": "python",
   "pygments_lexer": "ipython3",
   "version": "3.11.8"
  }
 },
 "nbformat": 4,
 "nbformat_minor": 2
}

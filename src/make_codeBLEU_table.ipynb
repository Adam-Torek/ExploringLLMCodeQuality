{
 "cells": [
  {
   "cell_type": "code",
   "execution_count": 4,
   "metadata": {},
   "outputs": [],
   "source": [
    "import pandas as pd\n",
    "import json"
   ]
  },
  {
   "cell_type": "code",
   "execution_count": 5,
   "metadata": {},
   "outputs": [],
   "source": [
    "with open('../codebleu_results.json') as data_file:    \n",
    "    d = json.load(data_file)  \n",
    "\n",
    "codebleu_results = pd.concat({k: pd.DataFrame(v) for k, v in d.items()}, axis=1)"
   ]
  },
  {
   "cell_type": "code",
   "execution_count": 6,
   "metadata": {},
   "outputs": [
    {
     "name": "stdout",
     "output_type": "stream",
     "text": [
      "\\begin{tabular}{lrrrrrrrr}\n",
      "\\toprule\n",
      " & \\multicolumn{2}{r}{CodeLlama 7B} & \\multicolumn{2}{r}{Mistral 7B Instruct} & \\multicolumn{2}{r}{WizardCoder 3B} & \\multicolumn{2}{r}{starcoder2 7b} \\\\\n",
      " & humaneval & mbpp & humaneval & mbpp & humaneval & mbpp & humaneval & mbpp \\\\\n",
      "\\midrule\n",
      "4 bit & 0.242619 & 0.238994 & 0.245361 & 0.212472 & 0.023056 & 0.251026 & NaN & NaN \\\\\n",
      "8 bit & 0.243333 & 0.244497 & 0.251942 & 0.214113 & 0.023056 & 0.251026 & NaN & NaN \\\\\n",
      "unquantized & 0.252537 & 0.244789 & 0.263305 & 0.244989 & 0.184853 & 0.236126 & 0.190918 & 0.259609 \\\\\n",
      "\\bottomrule\n",
      "\\end{tabular}\n",
      "\n"
     ]
    }
   ],
   "source": [
    "print(codebleu_results.to_latex())"
   ]
  },
  {
   "cell_type": "code",
   "execution_count": 7,
   "metadata": {},
   "outputs": [
    {
     "data": {
      "text/html": [
       "<div>\n",
       "<style scoped>\n",
       "    .dataframe tbody tr th:only-of-type {\n",
       "        vertical-align: middle;\n",
       "    }\n",
       "\n",
       "    .dataframe tbody tr th {\n",
       "        vertical-align: top;\n",
       "    }\n",
       "\n",
       "    .dataframe thead tr th {\n",
       "        text-align: left;\n",
       "    }\n",
       "</style>\n",
       "<table border=\"1\" class=\"dataframe\">\n",
       "  <thead>\n",
       "    <tr>\n",
       "      <th></th>\n",
       "      <th colspan=\"2\" halign=\"left\">CodeLlama 7B</th>\n",
       "      <th colspan=\"2\" halign=\"left\">Mistral 7B Instruct</th>\n",
       "      <th colspan=\"2\" halign=\"left\">WizardCoder 3B</th>\n",
       "      <th colspan=\"2\" halign=\"left\">starcoder2 7b</th>\n",
       "    </tr>\n",
       "    <tr>\n",
       "      <th></th>\n",
       "      <th>humaneval</th>\n",
       "      <th>mbpp</th>\n",
       "      <th>humaneval</th>\n",
       "      <th>mbpp</th>\n",
       "      <th>humaneval</th>\n",
       "      <th>mbpp</th>\n",
       "      <th>humaneval</th>\n",
       "      <th>mbpp</th>\n",
       "    </tr>\n",
       "  </thead>\n",
       "  <tbody>\n",
       "    <tr>\n",
       "      <th>4 bit</th>\n",
       "      <td>0.242619</td>\n",
       "      <td>0.238994</td>\n",
       "      <td>0.245361</td>\n",
       "      <td>0.212472</td>\n",
       "      <td>0.023056</td>\n",
       "      <td>0.251026</td>\n",
       "      <td>NaN</td>\n",
       "      <td>NaN</td>\n",
       "    </tr>\n",
       "    <tr>\n",
       "      <th>8 bit</th>\n",
       "      <td>0.243333</td>\n",
       "      <td>0.244497</td>\n",
       "      <td>0.251942</td>\n",
       "      <td>0.214113</td>\n",
       "      <td>0.023056</td>\n",
       "      <td>0.251026</td>\n",
       "      <td>NaN</td>\n",
       "      <td>NaN</td>\n",
       "    </tr>\n",
       "    <tr>\n",
       "      <th>unquantized</th>\n",
       "      <td>0.252537</td>\n",
       "      <td>0.244789</td>\n",
       "      <td>0.263305</td>\n",
       "      <td>0.244989</td>\n",
       "      <td>0.184853</td>\n",
       "      <td>0.236126</td>\n",
       "      <td>0.190918</td>\n",
       "      <td>0.259609</td>\n",
       "    </tr>\n",
       "  </tbody>\n",
       "</table>\n",
       "</div>"
      ],
      "text/plain": [
       "            CodeLlama 7B           Mistral 7B Instruct            \\\n",
       "               humaneval      mbpp           humaneval      mbpp   \n",
       "4 bit           0.242619  0.238994            0.245361  0.212472   \n",
       "8 bit           0.243333  0.244497            0.251942  0.214113   \n",
       "unquantized     0.252537  0.244789            0.263305  0.244989   \n",
       "\n",
       "            WizardCoder 3B           starcoder2 7b            \n",
       "                 humaneval      mbpp     humaneval      mbpp  \n",
       "4 bit             0.023056  0.251026           NaN       NaN  \n",
       "8 bit             0.023056  0.251026           NaN       NaN  \n",
       "unquantized       0.184853  0.236126      0.190918  0.259609  "
      ]
     },
     "execution_count": 7,
     "metadata": {},
     "output_type": "execute_result"
    }
   ],
   "source": [
    "codebleu_results"
   ]
  },
  {
   "cell_type": "code",
   "execution_count": null,
   "metadata": {},
   "outputs": [],
   "source": []
  }
 ],
 "metadata": {
  "kernelspec": {
   "display_name": "EXLLMQL",
   "language": "python",
   "name": "python3"
  },
  "language_info": {
   "codemirror_mode": {
    "name": "ipython",
    "version": 3
   },
   "file_extension": ".py",
   "mimetype": "text/x-python",
   "name": "python",
   "nbconvert_exporter": "python",
   "pygments_lexer": "ipython3",
   "version": "3.11.8"
  }
 },
 "nbformat": 4,
 "nbformat_minor": 2
}

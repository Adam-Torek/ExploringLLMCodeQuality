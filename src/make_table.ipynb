{
 "cells": [
  {
   "cell_type": "code",
   "execution_count": 7,
   "metadata": {},
   "outputs": [],
   "source": [
    "import pandas as pd\n",
    "import json"
   ]
  },
  {
   "cell_type": "code",
   "execution_count": 8,
   "metadata": {},
   "outputs": [],
   "source": [
    "with open('../all_benchmark_results_normal.json') as data_file:    \n",
    "    d = json.load(data_file)  \n",
    "\n",
    "results_data_normal = pd.concat({k: pd.DataFrame(v) for k, v in d.items()}, axis=1)"
   ]
  },
  {
   "cell_type": "code",
   "execution_count": 9,
   "metadata": {},
   "outputs": [],
   "source": [
    "with open('../all_benchmark_results_plus.json') as data_file:    \n",
    "    dp = json.load(data_file)  \n",
    "\n",
    "results_data_plus = pd.concat({k: pd.DataFrame(v) for k, v in dp.items()}, axis=1)"
   ]
  },
  {
   "cell_type": "code",
   "execution_count": 10,
   "metadata": {},
   "outputs": [
    {
     "name": "stdout",
     "output_type": "stream",
     "text": [
      "\\begin{tabular}{lllllllll}\n",
      "\\toprule\n",
      " & \\multicolumn{2}{r}{CodeLlama 7B} & \\multicolumn{2}{r}{Mistral 7B Instruct} & \\multicolumn{2}{r}{WizardCoder Python 7B} & \\multicolumn{2}{r}{starcoder2 7b} \\\\\n",
      " & HumanEval & MBPP & HumanEval & MBPP & HumanEval & MBPP & HumanEval & MBPP \\\\\n",
      "\\midrule\n",
      "4 bit & 5.49\\% & 13.78\\% & 18.90\\% & 41.60\\% & 23.17\\% & 30.83\\% & 1.22\\% & 1.25\\% \\\\\n",
      "8 bit & 3.66\\% & 13.03\\% & 18.90\\% & 42.61\\% & 22.56\\% & 30.08\\% & 0.00\\% & 1.00\\% \\\\\n",
      "unquantized & 6.10\\% & 14.29\\% & 30.49\\% & 33.58\\% & 30.49\\% & 33.83\\% & 0.61\\% & 1.75\\% \\\\\n",
      "\\bottomrule\n",
      "\\end{tabular}\n",
      "\n"
     ]
    }
   ],
   "source": [
    "print(results_data_normal.map(lambda x: \"{:.2f}\\%\".format(x*100)).to_latex())"
   ]
  },
  {
   "cell_type": "code",
   "execution_count": 11,
   "metadata": {},
   "outputs": [
    {
     "data": {
      "text/html": [
       "<div>\n",
       "<style scoped>\n",
       "    .dataframe tbody tr th:only-of-type {\n",
       "        vertical-align: middle;\n",
       "    }\n",
       "\n",
       "    .dataframe tbody tr th {\n",
       "        vertical-align: top;\n",
       "    }\n",
       "\n",
       "    .dataframe thead tr th {\n",
       "        text-align: left;\n",
       "    }\n",
       "</style>\n",
       "<table border=\"1\" class=\"dataframe\">\n",
       "  <thead>\n",
       "    <tr>\n",
       "      <th></th>\n",
       "      <th colspan=\"2\" halign=\"left\">CodeLlama 7B</th>\n",
       "      <th colspan=\"2\" halign=\"left\">Mistral 7B Instruct</th>\n",
       "      <th colspan=\"2\" halign=\"left\">WizardCoder Python 7B</th>\n",
       "      <th colspan=\"2\" halign=\"left\">starcoder2 7b</th>\n",
       "    </tr>\n",
       "    <tr>\n",
       "      <th></th>\n",
       "      <th>HumanEval Plus</th>\n",
       "      <th>MBPP Plus</th>\n",
       "      <th>HumanEval Plus</th>\n",
       "      <th>MBPP Plus</th>\n",
       "      <th>HumanEval Plus</th>\n",
       "      <th>MBPP Plus</th>\n",
       "      <th>HumanEval Plus</th>\n",
       "      <th>MBPP Plus</th>\n",
       "    </tr>\n",
       "  </thead>\n",
       "  <tbody>\n",
       "    <tr>\n",
       "      <th>4 bit</th>\n",
       "      <td>0.036585</td>\n",
       "      <td>0.120301</td>\n",
       "      <td>0.140244</td>\n",
       "      <td>0.340852</td>\n",
       "      <td>0.213415</td>\n",
       "      <td>0.260652</td>\n",
       "      <td>0.012195</td>\n",
       "      <td>0.010025</td>\n",
       "    </tr>\n",
       "    <tr>\n",
       "      <th>8 bit</th>\n",
       "      <td>0.024390</td>\n",
       "      <td>0.112782</td>\n",
       "      <td>0.146341</td>\n",
       "      <td>0.340852</td>\n",
       "      <td>0.195122</td>\n",
       "      <td>0.248120</td>\n",
       "      <td>0.000000</td>\n",
       "      <td>0.007519</td>\n",
       "    </tr>\n",
       "    <tr>\n",
       "      <th>unquantized</th>\n",
       "      <td>0.036585</td>\n",
       "      <td>0.110276</td>\n",
       "      <td>0.256098</td>\n",
       "      <td>0.275689</td>\n",
       "      <td>0.274390</td>\n",
       "      <td>0.283208</td>\n",
       "      <td>0.006098</td>\n",
       "      <td>0.010025</td>\n",
       "    </tr>\n",
       "  </tbody>\n",
       "</table>\n",
       "</div>"
      ],
      "text/plain": [
       "              CodeLlama 7B           Mistral 7B Instruct            \\\n",
       "            HumanEval Plus MBPP Plus      HumanEval Plus MBPP Plus   \n",
       "4 bit             0.036585  0.120301            0.140244  0.340852   \n",
       "8 bit             0.024390  0.112782            0.146341  0.340852   \n",
       "unquantized       0.036585  0.110276            0.256098  0.275689   \n",
       "\n",
       "            WizardCoder Python 7B            starcoder2 7b            \n",
       "                   HumanEval Plus MBPP Plus HumanEval Plus MBPP Plus  \n",
       "4 bit                    0.213415  0.260652       0.012195  0.010025  \n",
       "8 bit                    0.195122  0.248120       0.000000  0.007519  \n",
       "unquantized              0.274390  0.283208       0.006098  0.010025  "
      ]
     },
     "execution_count": 11,
     "metadata": {},
     "output_type": "execute_result"
    }
   ],
   "source": [
    "results_data_plus"
   ]
  },
  {
   "cell_type": "code",
   "execution_count": 12,
   "metadata": {},
   "outputs": [
    {
     "name": "stdout",
     "output_type": "stream",
     "text": [
      "\\begin{tabular}{lllllllll}\n",
      "\\toprule\n",
      " & \\multicolumn{2}{r}{CodeLlama 7B} & \\multicolumn{2}{r}{Mistral 7B Instruct} & \\multicolumn{2}{r}{WizardCoder Python 7B} & \\multicolumn{2}{r}{starcoder2 7b} \\\\\n",
      " & HumanEval Plus & MBPP Plus & HumanEval Plus & MBPP Plus & HumanEval Plus & MBPP Plus & HumanEval Plus & MBPP Plus \\\\\n",
      "\\midrule\n",
      "4 bit & 3.66\\% & 12.03\\% & 14.02\\% & 34.09\\% & 21.34\\% & 26.07\\% & 1.22\\% & 1.00\\% \\\\\n",
      "8 bit & 2.44\\% & 11.28\\% & 14.63\\% & 34.09\\% & 19.51\\% & 24.81\\% & 0.00\\% & 0.75\\% \\\\\n",
      "unquantized & 3.66\\% & 11.03\\% & 25.61\\% & 27.57\\% & 27.44\\% & 28.32\\% & 0.61\\% & 1.00\\% \\\\\n",
      "\\bottomrule\n",
      "\\end{tabular}\n",
      "\n"
     ]
    }
   ],
   "source": [
    "print(results_data_plus.map(lambda x: \"{:.2f}\\%\".format(x*100)).to_latex())"
   ]
  },
  {
   "cell_type": "code",
   "execution_count": null,
   "metadata": {},
   "outputs": [],
   "source": []
  }
 ],
 "metadata": {
  "kernelspec": {
   "display_name": "EXLLMQL",
   "language": "python",
   "name": "python3"
  },
  "language_info": {
   "codemirror_mode": {
    "name": "ipython",
    "version": 3
   },
   "file_extension": ".py",
   "mimetype": "text/x-python",
   "name": "python",
   "nbconvert_exporter": "python",
   "pygments_lexer": "ipython3",
   "version": "3.11.8"
  }
 },
 "nbformat": 4,
 "nbformat_minor": 2
}

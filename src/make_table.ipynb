{
 "cells": [
  {
   "cell_type": "code",
   "execution_count": 6,
   "metadata": {},
   "outputs": [],
   "source": [
    "import pandas as pd\n",
    "import json"
   ]
  },
  {
   "cell_type": "code",
   "execution_count": 7,
   "metadata": {},
   "outputs": [],
   "source": [
    "with open('../all_benchmark_results_normal.json') as data_file:    \n",
    "    d = json.load(data_file)  \n",
    "\n",
    "results_data_normal = pd.concat({k: pd.DataFrame(v) for k, v in d.items()}, axis=1)"
   ]
  },
  {
   "cell_type": "code",
   "execution_count": 8,
   "metadata": {},
   "outputs": [],
   "source": [
    "with open('../all_benchmark_results_plus.json') as data_file:    \n",
    "    dp = json.load(data_file)  \n",
    "\n",
    "results_data_plus = pd.concat({k: pd.DataFrame(v) for k, v in dp.items()}, axis=1)"
   ]
  },
  {
   "cell_type": "code",
   "execution_count": 9,
   "metadata": {},
   "outputs": [
    {
     "name": "stdout",
     "output_type": "stream",
     "text": [
      "\\begin{tabular}{lllllllll}\n",
      "\\toprule\n",
      " & \\multicolumn{2}{r}{CodeLlama 7B} & \\multicolumn{2}{r}{Mistral 7B Instruct} & \\multicolumn{2}{r}{WizardCoder 3B} & \\multicolumn{2}{r}{starcoder2 7b} \\\\\n",
      " & humaneval & mbpp & humaneval & mbpp & humaneval & mbpp & humaneval & mbpp \\\\\n",
      "\\midrule\n",
      "4 bit & 7.93\\% & 15.04\\% & 18.29\\% & 42.36\\% & 0.00\\% & 0.00\\% & nan\\% & nan\\% \\\\\n",
      "8 bit & 5.49\\% & 13.53\\% & 18.29\\% & 40.85\\% & 0.00\\% & 0.00\\% & nan\\% & nan\\% \\\\\n",
      "unquantized & 3.05\\% & 0.00\\% & 25.00\\% & 0.00\\% & 2.44\\% & 16.04\\% & 0.61\\% & 1.25\\% \\\\\n",
      "\\bottomrule\n",
      "\\end{tabular}\n",
      "\n"
     ]
    }
   ],
   "source": [
    "print(results_data_normal.map(lambda x: \"{:.2f}\\%\".format(x*100)).to_latex())"
   ]
  },
  {
   "cell_type": "code",
   "execution_count": 10,
   "metadata": {},
   "outputs": [
    {
     "name": "stdout",
     "output_type": "stream",
     "text": [
      "\\begin{tabular}{lllllllll}\n",
      "\\toprule\n",
      " & \\multicolumn{2}{r}{CodeLlama 7B} & \\multicolumn{2}{r}{Mistral 7B Instruct} & \\multicolumn{2}{r}{WizardCoder 3B} & \\multicolumn{2}{r}{starcoder2 7b} \\\\\n",
      " & humaneval & mbpp & humaneval & mbpp & humaneval & mbpp & humaneval & mbpp \\\\\n",
      "\\midrule\n",
      "4 bit & 7.93\\% & 15.04\\% & 18.29\\% & 42.36\\% & 0.00\\% & 0.00\\% & nan\\% & nan\\% \\\\\n",
      "8 bit & 5.49\\% & 13.53\\% & 18.29\\% & 40.85\\% & 0.00\\% & 0.00\\% & nan\\% & nan\\% \\\\\n",
      "unquantized & 3.05\\% & 0.00\\% & 25.00\\% & 0.00\\% & 2.44\\% & 16.04\\% & 0.61\\% & 1.25\\% \\\\\n",
      "\\bottomrule\n",
      "\\end{tabular}\n",
      "\n"
     ]
    }
   ],
   "source": [
    "print(results_data_plus.map(lambda x: \"{:.2f}\\%\".format(x*100)).to_latex())"
   ]
  },
  {
   "cell_type": "code",
   "execution_count": null,
   "metadata": {},
   "outputs": [],
   "source": []
  }
 ],
 "metadata": {
  "kernelspec": {
   "display_name": "EXLLMQL",
   "language": "python",
   "name": "python3"
  },
  "language_info": {
   "codemirror_mode": {
    "name": "ipython",
    "version": 3
   },
   "file_extension": ".py",
   "mimetype": "text/x-python",
   "name": "python",
   "nbconvert_exporter": "python",
   "pygments_lexer": "ipython3",
   "version": "3.11.8"
  }
 },
 "nbformat": 4,
 "nbformat_minor": 2
}
